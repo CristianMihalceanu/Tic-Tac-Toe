{
  "nbformat": 4,
  "nbformat_minor": 0,
  "metadata": {
    "kernelspec": {
      "display_name": "Python 3",
      "language": "python",
      "name": "python3"
    },
    "language_info": {
      "codemirror_mode": {
        "name": "ipython",
        "version": 3
      },
      "file_extension": ".py",
      "mimetype": "text/x-python",
      "name": "python",
      "nbconvert_exporter": "python",
      "pygments_lexer": "ipython3",
      "version": "3.7.3"
    },
    "colab": {
      "name": "Tic tac toe.ipynb",
      "provenance": [],
      "include_colab_link": true
    }
  },
  "cells": [
    {
      "cell_type": "markdown",
      "metadata": {
        "id": "view-in-github",
        "colab_type": "text"
      },
      "source": [
        "<a href=\"https://colab.research.google.com/github/CristianMihalceanu/Tic-Tac-Toe/blob/main/tic-tac-toe.ipynb\" target=\"_parent\"><img src=\"https://colab.research.google.com/assets/colab-badge.svg\" alt=\"Open In Colab\"/></a>"
      ]
    },
    {
      "cell_type": "code",
      "metadata": {
        "id": "P-uW8S9W267L"
      },
      "source": [
        "from IPython.display import clear_output\n",
        "\n",
        "def display(canvas):\n",
        "    clear_output()\n",
        "    print(canvas[7]+' || '+canvas[8]+' || '+ canvas[9])\n",
        "    print(canvas[4]+' || '+canvas[5]+' || '+ canvas[6])\n",
        "    print(canvas[1]+' || '+canvas[2]+' || '+ canvas[3])"
      ],
      "execution_count": null,
      "outputs": []
    },
    {
      "cell_type": "code",
      "metadata": {
        "id": "9E4FRKWd267R"
      },
      "source": [
        "board=['#','X','O','X','O','X','O','X','O','X']\n",
        "display(board)"
      ],
      "execution_count": null,
      "outputs": []
    },
    {
      "cell_type": "code",
      "metadata": {
        "id": "S90z0Lz0267T"
      },
      "source": [
        "#def player_input():\n",
        "    marker=player1=player2=''\n",
        "    while marker!='X' and marker!='O':\n",
        "        marker=input('Player1, please choose X or O:')\n",
        "    player1=marker\n",
        "    if player1 == 'X':\n",
        "        player2 = 'O'\n",
        "    else:\n",
        "        player2 = 'X'\n",
        "    return (player1, player2)"
      ],
      "execution_count": null,
      "outputs": []
    },
    {
      "cell_type": "code",
      "metadata": {
        "id": "cYrUsxYR267W"
      },
      "source": [
        "player_input()"
      ],
      "execution_count": null,
      "outputs": []
    },
    {
      "cell_type": "code",
      "metadata": {
        "id": "WV-bXfv4267X"
      },
      "source": [
        "def player_input():\n",
        "    marker = ''\n",
        "    \n",
        "    while not (marker == 'X' or marker == 'O'):\n",
        "        marker = input('Player 1: Do you want to be X or O? ').upper()\n",
        "\n",
        "    if marker == 'X':\n",
        "        return ('X', 'O')\n",
        "    else:\n",
        "        return ('O', 'X')"
      ],
      "execution_count": null,
      "outputs": []
    },
    {
      "cell_type": "code",
      "metadata": {
        "id": "YbcJkYMc267Y"
      },
      "source": [
        "def place_marker(canvas, simbol, poz):\n",
        "    canvas[poz]=simbol"
      ],
      "execution_count": null,
      "outputs": []
    },
    {
      "cell_type": "code",
      "metadata": {
        "id": "Xq_FNtdZ267a"
      },
      "source": [
        "place_marker(board,'B',4)\n",
        "display(board)"
      ],
      "execution_count": null,
      "outputs": []
    },
    {
      "cell_type": "code",
      "metadata": {
        "id": "jp1Y-SUF267c"
      },
      "source": [
        "display(board)"
      ],
      "execution_count": null,
      "outputs": []
    },
    {
      "cell_type": "code",
      "metadata": {
        "id": "1l14YH42267e"
      },
      "source": [
        "def win_check(c,s):\n",
        "    #c de la canvas\n",
        "    #s de la simbol\n",
        "    if c[1]==s and c[2]==s and c[3]==s:\n",
        "        return True\n",
        "    elif c[4]==s and c[5]==s and c[6]==s:\n",
        "        return True\n",
        "    elif c[7]==s and c[8]==s and c[9]==s:\n",
        "        return True\n",
        "    elif c[1]==s and c[4]==s and c[7]==s:\n",
        "        return True\n",
        "    elif c[2]==s and c[5]==s and c[8]==s:\n",
        "        return True\n",
        "    elif c[3]==s and c[6]==s and c[9]==s:\n",
        "        return True\n",
        "    elif c[7]==s and c[5]==s and c[3]==s:\n",
        "        return True\n",
        "    elif c[9]==s and c[5]==s and c[3]==s:\n",
        "        return True\n",
        "    else:\n",
        "        return False"
      ],
      "execution_count": null,
      "outputs": []
    },
    {
      "cell_type": "code",
      "metadata": {
        "id": "LtwUn4NC267g"
      },
      "source": [
        "win_check(board,'O')"
      ],
      "execution_count": null,
      "outputs": []
    },
    {
      "cell_type": "code",
      "metadata": {
        "id": "XY6Uaagf267h"
      },
      "source": [
        "import random\n",
        "a=1\n",
        "b=2\n",
        "random.randint(a,b)"
      ],
      "execution_count": null,
      "outputs": []
    },
    {
      "cell_type": "code",
      "metadata": {
        "id": "aGhmLZSn267i"
      },
      "source": [
        "import random\n",
        "\n",
        "\n",
        "def choose_first():\n",
        "    a=1\n",
        "    b=2\n",
        "    goes_first=random.randint(a,b)\n",
        "    \n",
        "    return goes_first"
      ],
      "execution_count": null,
      "outputs": []
    },
    {
      "cell_type": "code",
      "metadata": {
        "id": "JmHzWbCS267j"
      },
      "source": [
        "goes_first=0\n",
        "choose_first()"
      ],
      "execution_count": null,
      "outputs": []
    },
    {
      "cell_type": "code",
      "metadata": {
        "id": "8XFbDtHO267k"
      },
      "source": [
        "def space_check(canvas, poz):\n",
        "    if canvas[poz]=='':\n",
        "        return True\n",
        "    else:\n",
        "        return False\n"
      ],
      "execution_count": null,
      "outputs": []
    },
    {
      "cell_type": "code",
      "metadata": {
        "id": "6YOliFvS267l"
      },
      "source": [
        "space_check(board,2)"
      ],
      "execution_count": null,
      "outputs": []
    },
    {
      "cell_type": "code",
      "metadata": {
        "id": "_ULDVjbc267m"
      },
      "source": [
        "def full(canvas):\n",
        "    for i in range(1,10):\n",
        "        if space_check(canvas, i):\n",
        "            return False\n",
        "    return True"
      ],
      "execution_count": null,
      "outputs": []
    },
    {
      "cell_type": "code",
      "metadata": {
        "id": "zik1lrX_267n"
      },
      "source": [
        "full(board)"
      ],
      "execution_count": null,
      "outputs": []
    },
    {
      "cell_type": "code",
      "metadata": {
        "id": "JIkhsCdW267o"
      },
      "source": [
        "#Step 8: Write a function that asks for a player's next position (as a number 1-9) and then uses the function from step 6 to \n",
        "#check if it's a free position. If it is, then return the position for later use.\n",
        "\n",
        "def nextpoz(matrice,player1,player2):\n",
        "    pozitie=int(input('Please select next position you want to occupy(1-9):'))\n",
        "    if space_check(matrice,pozitie)==True:\n",
        "        place_marker(matrice,'O',4)\n"
      ],
      "execution_count": null,
      "outputs": []
    },
    {
      "cell_type": "code",
      "metadata": {
        "id": "xgZgJsuk267p"
      },
      "source": [
        "def tictactoe(replay):\n",
        "    if replay==0:\n",
        "        print(\"Te mai asteptam\")\n",
        "    else:\n",
        "        print('Bine ai venit la \"X si 0\"-ul lui Cristi\\n')\n",
        "        board=['#','','','','','','','','','']\n",
        "        ok=1\n",
        "        \n",
        "        player1, player2 = player_input()\n",
        "        \n",
        "        goes_first=choose_first()\n",
        "        if goes_first%2==1:\n",
        "            print('Player1 incepe\\n')\n",
        "        else:\n",
        "            print('Player2 incepe\\n')\n",
        "            \n",
        "        while ok:\n",
        "            \n",
        "            if goes_first%2==1:\n",
        "                print('Player1 urmeaza')\n",
        "            else:\n",
        "                print('Player2 urmeaza')\n",
        "            \n",
        "            \n",
        "            pozitie=int(input('Introdu pozitia pe care vrei sa o ocupi(1-9):'))\n",
        "            while space_check(board,pozitie)==False:\n",
        "                pozitie=int(input('Introdu pozitia pe care vrei sa o ocupi(1-9):'))\n",
        "            if space_check(board,pozitie)==True and goes_first%2==1:\n",
        "                place_marker(board,player1,pozitie)\n",
        "                goes_first=goes_first+1\n",
        "            else:\n",
        "                place_marker(board,player2,pozitie)\n",
        "                goes_first=goes_first+1\n",
        "            display(board)\n",
        "            if win_check(board,player2):\n",
        "                ok=0\n",
        "                print('Player2 a castigat\\n')\n",
        "            if win_check(board,player1):\n",
        "                ok=0\n",
        "                print('Player1 a castigat\\n')\n",
        "            if full(board):\n",
        "                ok=0\n",
        "                print('Remiza!\\n')\n",
        "        replay=int(input('Revansa? (1=Da, 0=Nu)'))\n"
      ],
      "execution_count": null,
      "outputs": []
    },
    {
      "cell_type": "code",
      "metadata": {
        "id": "Kgyh6LRD267r",
        "outputId": "b0af4eb7-168d-44e2-e88f-69e69da831c5"
      },
      "source": [
        "tictactoe(1)"
      ],
      "execution_count": null,
      "outputs": [
        {
          "name": "stdout",
          "output_type": "stream",
          "text": [
            "O || O || \n",
            "X || O || O\n",
            "X || X || X\n",
            "Player1 a castigat\n",
            "\n"
          ]
        }
      ]
    },
    {
      "cell_type": "code",
      "metadata": {
        "id": "srVsO7UM267t"
      },
      "source": [
        "#trebuie rulate toate functiile inaite de inceperea jocului :))))\n",
        "# facut pe 10.01.2020 si mai ales pe 1.02.2020\n",
        "#Te pup, Cristi din viitor"
      ],
      "execution_count": null,
      "outputs": []
    },
    {
      "cell_type": "code",
      "metadata": {
        "id": "KSsXiWXP267u"
      },
      "source": [
        ""
      ],
      "execution_count": null,
      "outputs": []
    }
  ]
}